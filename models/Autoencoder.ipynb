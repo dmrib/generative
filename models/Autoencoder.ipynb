{
 "cells": [
  {
   "cell_type": "markdown",
   "metadata": {},
   "source": [
    "### Imports"
   ]
  },
  {
   "cell_type": "code",
   "execution_count": 1,
   "metadata": {},
   "outputs": [],
   "source": [
    "from torch import nn\n",
    "from torch import optim\n",
    "from torch.functional import F\n",
    "from torchvision import transforms\n",
    "from torchsummary import summary\n",
    "from torch.utils.data import RandomSampler\n",
    "from tqdm import tqdm_notebook as tqdm\n",
    "\n",
    "import matplotlib.pyplot as plt\n",
    "import random\n",
    "import torch\n",
    "import torchvision"
   ]
  },
  {
   "cell_type": "markdown",
   "metadata": {},
   "source": [
    "### Constants and definitions"
   ]
  },
  {
   "cell_type": "code",
   "execution_count": 2,
   "metadata": {},
   "outputs": [],
   "source": [
    "%matplotlib inline\n",
    "\n",
    "# model training parameters\n",
    "BATCH_SIZE = 256\n",
    "COMPRESSED_DIMS = 2\n",
    "DEVICE = torch.device('cuda' if torch.cuda.is_available() else 'cpu')\n",
    "EPOCHS = 25\n",
    "LEARNING_RATE = 1e-3"
   ]
  },
  {
   "cell_type": "markdown",
   "metadata": {},
   "source": [
    "### Load dataset"
   ]
  },
  {
   "cell_type": "markdown",
   "metadata": {},
   "source": [
    "Download (if necessary) and load MNIST dataset:"
   ]
  },
  {
   "cell_type": "code",
   "execution_count": 3,
   "metadata": {},
   "outputs": [],
   "source": [
    "# load MNIST training subset and normalize\n",
    "MNIST_train = torchvision.datasets.MNIST('../data/', \n",
    "                                         train = True, \n",
    "                                         download = True, \n",
    "                                         transform = transforms.Compose([transforms.ToTensor(),\n",
    "                                                                         transforms.Normalize((0.1307,), (0.3081,))]))\n",
    "# load MNIST test subset and normalize\n",
    "MNIST_test = torchvision.datasets.MNIST('../data/', \n",
    "                                        train = False, \n",
    "                                        download = True,\n",
    "                                        transform=transforms.Compose([transforms.ToTensor(),\n",
    "                                                                      transforms.Normalize((0.1307,), (0.3081,))]))"
   ]
  },
  {
   "cell_type": "markdown",
   "metadata": {},
   "source": [
    "Training set:"
   ]
  },
  {
   "cell_type": "code",
   "execution_count": 4,
   "metadata": {},
   "outputs": [
    {
     "data": {
      "text/plain": [
       "Dataset MNIST\n",
       "    Number of datapoints: 60000\n",
       "    Root location: ../data/\n",
       "    Split: Train\n",
       "    StandardTransform\n",
       "Transform: Compose(\n",
       "               ToTensor()\n",
       "               Normalize(mean=(0.1307,), std=(0.3081,))\n",
       "           )"
      ]
     },
     "execution_count": 4,
     "metadata": {},
     "output_type": "execute_result"
    }
   ],
   "source": [
    "MNIST_train"
   ]
  },
  {
   "cell_type": "markdown",
   "metadata": {},
   "source": [
    "Test set:"
   ]
  },
  {
   "cell_type": "code",
   "execution_count": 5,
   "metadata": {},
   "outputs": [
    {
     "data": {
      "text/plain": [
       "Dataset MNIST\n",
       "    Number of datapoints: 10000\n",
       "    Root location: ../data/\n",
       "    Split: Test\n",
       "    StandardTransform\n",
       "Transform: Compose(\n",
       "               ToTensor()\n",
       "               Normalize(mean=(0.1307,), std=(0.3081,))\n",
       "           )"
      ]
     },
     "execution_count": 5,
     "metadata": {},
     "output_type": "execute_result"
    }
   ],
   "source": [
    "MNIST_test"
   ]
  },
  {
   "cell_type": "markdown",
   "metadata": {},
   "source": [
    "### Create data loaders"
   ]
  },
  {
   "cell_type": "markdown",
   "metadata": {},
   "source": [
    "Training set dataloader (Pytorch convenience):"
   ]
  },
  {
   "cell_type": "code",
   "execution_count": 6,
   "metadata": {},
   "outputs": [],
   "source": [
    "train_loader = torch.utils.data.DataLoader(MNIST_train, batch_size = BATCH_SIZE, shuffle = True)"
   ]
  },
  {
   "cell_type": "markdown",
   "metadata": {},
   "source": [
    "Test set dataloader (no shuffling to save clocks, batch size twice as large because we don't need to store gradients on inference time):"
   ]
  },
  {
   "cell_type": "code",
   "execution_count": 7,
   "metadata": {},
   "outputs": [],
   "source": [
    "test_loader = torch.utils.data.DataLoader(MNIST_test, batch_size = 2 * BATCH_SIZE, shuffle = False)"
   ]
  },
  {
   "cell_type": "markdown",
   "metadata": {},
   "source": [
    "### Encoder network"
   ]
  },
  {
   "cell_type": "markdown",
   "metadata": {},
   "source": [
    "Define encoder model:"
   ]
  },
  {
   "cell_type": "code",
   "execution_count": 8,
   "metadata": {},
   "outputs": [],
   "source": [
    "class MNIST_Encoder(nn.Module):\n",
    "    def __init__(self):\n",
    "        super(MNIST_Encoder, self).__init__()\n",
    "        self.encode = nn.Sequential(\n",
    "                        nn.Flatten(),\n",
    "                        nn.Linear(784, 512),\n",
    "                        nn.ReLU(),\n",
    "                        nn.Linear(512, 256),\n",
    "                        nn.ReLU(),\n",
    "                        nn.Linear(256, 128),\n",
    "                        nn.ReLU(),\n",
    "                        nn.Linear(128, 64),\n",
    "                        nn.ReLU(),\n",
    "                        nn.Linear(64, 32),\n",
    "                        nn.ReLU(),\n",
    "                        nn.Linear(32, COMPRESSED_DIMS))\n",
    "                        \n",
    "\n",
    "    def forward(self, x):\n",
    "        return self.encode(x)"
   ]
  },
  {
   "cell_type": "markdown",
   "metadata": {},
   "source": [
    "### Decoder network"
   ]
  },
  {
   "cell_type": "markdown",
   "metadata": {},
   "source": [
    "Define decoder model:"
   ]
  },
  {
   "cell_type": "code",
   "execution_count": 9,
   "metadata": {},
   "outputs": [],
   "source": [
    "class MNIST_Decoder(nn.Module):\n",
    "    def __init__(self):\n",
    "        super(MNIST_Decoder, self).__init__()\n",
    "        self.decode = nn.Sequential(\n",
    "                        nn.Linear(COMPRESSED_DIMS, 32),\n",
    "                        nn.ReLU(),\n",
    "                        nn.Linear(32, 64),\n",
    "                        nn.ReLU(),\n",
    "                        nn.Linear(64, 128),\n",
    "                        nn.ReLU(),\n",
    "                        nn.Linear(128, 256),\n",
    "                        nn.ReLU(),\n",
    "                        nn.Linear(256, 512),\n",
    "                        nn.ReLU(),\n",
    "                        nn.Linear(512, 784),\n",
    "                        nn.ReLU(),\n",
    "                        nn.Sigmoid())\n",
    "        \n",
    "    def forward(self, x):\n",
    "        x = self.decode(x)        \n",
    "        return x"
   ]
  },
  {
   "cell_type": "markdown",
   "metadata": {},
   "source": [
    "### Autoencoder"
   ]
  },
  {
   "cell_type": "markdown",
   "metadata": {},
   "source": [
    "Combine Encoder and Decoder in a single network, autoencoder:"
   ]
  },
  {
   "cell_type": "code",
   "execution_count": 10,
   "metadata": {},
   "outputs": [],
   "source": [
    "class MNIST_Autoencoder(nn.Module):\n",
    "    def __init__(self):\n",
    "        super(MNIST_Autoencoder, self).__init__()\n",
    "        self.encode = MNIST_Encoder()\n",
    "        self.decode = MNIST_Decoder()\n",
    "        \n",
    "    def forward(self, x):\n",
    "        x = self.encode(x)\n",
    "        x = self.decode(x)\n",
    "        \n",
    "        return x"
   ]
  },
  {
   "cell_type": "markdown",
   "metadata": {},
   "source": [
    "### Training loop"
   ]
  },
  {
   "cell_type": "markdown",
   "metadata": {},
   "source": [
    "Create model:"
   ]
  },
  {
   "cell_type": "code",
   "execution_count": 11,
   "metadata": {},
   "outputs": [],
   "source": [
    "autoencoder = MNIST_Autoencoder()\n",
    "autoencoder = autoencoder.to(DEVICE)"
   ]
  },
  {
   "cell_type": "code",
   "execution_count": 12,
   "metadata": {},
   "outputs": [
    {
     "name": "stdout",
     "output_type": "stream",
     "text": [
      "----------------------------------------------------------------\n",
      "        Layer (type)               Output Shape         Param #\n",
      "================================================================\n",
      "           Flatten-1                  [-1, 784]               0\n",
      "            Linear-2                  [-1, 512]         401,920\n",
      "              ReLU-3                  [-1, 512]               0\n",
      "            Linear-4                  [-1, 256]         131,328\n",
      "              ReLU-5                  [-1, 256]               0\n",
      "            Linear-6                  [-1, 128]          32,896\n",
      "              ReLU-7                  [-1, 128]               0\n",
      "            Linear-8                   [-1, 64]           8,256\n",
      "              ReLU-9                   [-1, 64]               0\n",
      "           Linear-10                   [-1, 32]           2,080\n",
      "             ReLU-11                   [-1, 32]               0\n",
      "           Linear-12                    [-1, 2]              66\n",
      "    MNIST_Encoder-13                    [-1, 2]               0\n",
      "           Linear-14                   [-1, 32]              96\n",
      "             ReLU-15                   [-1, 32]               0\n",
      "           Linear-16                   [-1, 64]           2,112\n",
      "             ReLU-17                   [-1, 64]               0\n",
      "           Linear-18                  [-1, 128]           8,320\n",
      "             ReLU-19                  [-1, 128]               0\n",
      "           Linear-20                  [-1, 256]          33,024\n",
      "             ReLU-21                  [-1, 256]               0\n",
      "           Linear-22                  [-1, 512]         131,584\n",
      "             ReLU-23                  [-1, 512]               0\n",
      "           Linear-24                  [-1, 784]         402,192\n",
      "             ReLU-25                  [-1, 784]               0\n",
      "          Sigmoid-26                  [-1, 784]               0\n",
      "    MNIST_Decoder-27                  [-1, 784]               0\n",
      "================================================================\n",
      "Total params: 1,153,874\n",
      "Trainable params: 1,153,874\n",
      "Non-trainable params: 0\n",
      "----------------------------------------------------------------\n",
      "Input size (MB): 0.00\n",
      "Forward/backward pass size (MB): 0.06\n",
      "Params size (MB): 4.40\n",
      "Estimated Total Size (MB): 4.46\n",
      "----------------------------------------------------------------\n"
     ]
    }
   ],
   "source": [
    "summary(autoencoder, (1, 784))"
   ]
  },
  {
   "cell_type": "markdown",
   "metadata": {},
   "source": [
    "Define optimizer:"
   ]
  },
  {
   "cell_type": "code",
   "execution_count": 13,
   "metadata": {},
   "outputs": [],
   "source": [
    "optimizer = optim.Adam(autoencoder.parameters(), lr=LEARNING_RATE, weight_decay=1e-5)"
   ]
  },
  {
   "cell_type": "markdown",
   "metadata": {},
   "source": [
    "Training loop:"
   ]
  },
  {
   "cell_type": "code",
   "execution_count": 14,
   "metadata": {},
   "outputs": [],
   "source": [
    "def fit(epochs, model, loss, optimizer, data):\n",
    "    \n",
    "    # initialize info dict\n",
    "    info = {\n",
    "        'epoch': [],\n",
    "        'loss': []\n",
    "    }\n",
    "        \n",
    "    # for each epoch\n",
    "    for epoch in range(epochs):\n",
    "    \n",
    "        # set model in training mode\n",
    "        model.train()\n",
    "        \n",
    "        # iterate through the dataset\n",
    "        for x, _ in tqdm(data):\n",
    "            \n",
    "            # send data to GPU\n",
    "            x = x.to(DEVICE)\n",
    "            \n",
    "            # infer and compute loss\n",
    "            y_hat = model(x)\n",
    "            loss_value = loss(y_hat, x.reshape(x.size()[0], -1))\n",
    "                        \n",
    "            # update weights\n",
    "            loss_value.backward()\n",
    "            optimizer.step()\n",
    "            optimizer.zero_grad()\n",
    "\n",
    "        # set model in inference mode\n",
    "        model.eval()\n",
    "        \n",
    "        # without computing gradients\n",
    "        with torch.no_grad():\n",
    "            \n",
    "            # compute validation loss\n",
    "            validation_loss = 0\n",
    "            for batch, _ in test_loader:\n",
    "                x_val = batch.reshape(batch.size()[0], -1)\n",
    "                x_val = x_val.to(DEVICE)\n",
    "                y_val = model(batch.to(DEVICE))\n",
    "                validation_loss += loss(y_val, x_val)            \n",
    "        \n",
    "        # update info\n",
    "        validation_loss = validation_loss.item() / len(MNIST_train)\n",
    "        info['epoch'].append(epoch + 1)\n",
    "        info['loss'].append(validation_loss)\n",
    "        \n",
    "        # log\n",
    "        print(f'End of epoch: {epoch + 1}\\nValidation loss: {validation_loss}\\n\\n')\n",
    "            \n",
    "    # return training info\n",
    "    return info"
   ]
  },
  {
   "cell_type": "code",
   "execution_count": 15,
   "metadata": {},
   "outputs": [
    {
     "data": {
      "application/vnd.jupyter.widget-view+json": {
       "model_id": "e4fba7cdf36d4528ab33c3941d693bb4",
       "version_major": 2,
       "version_minor": 0
      },
      "text/plain": [
       "HBox(children=(IntProgress(value=0, max=235), HTML(value='')))"
      ]
     },
     "metadata": {},
     "output_type": "display_data"
    },
    {
     "name": "stdout",
     "output_type": "stream",
     "text": [
      "\n",
      "End of epoch: 1\n",
      "Validation loss: 0.00039339780807495117\n",
      "\n",
      "\n"
     ]
    },
    {
     "data": {
      "application/vnd.jupyter.widget-view+json": {
       "model_id": "a5c4a3c4a8d44f96b845edbaa858d02a",
       "version_major": 2,
       "version_minor": 0
      },
      "text/plain": [
       "HBox(children=(IntProgress(value=0, max=235), HTML(value='')))"
      ]
     },
     "metadata": {},
     "output_type": "display_data"
    },
    {
     "name": "stdout",
     "output_type": "stream",
     "text": [
      "\n",
      "End of epoch: 2\n",
      "Validation loss: 0.00039031702677408853\n",
      "\n",
      "\n"
     ]
    },
    {
     "data": {
      "application/vnd.jupyter.widget-view+json": {
       "model_id": "92fd83444c6446488c13de50edf93369",
       "version_major": 2,
       "version_minor": 0
      },
      "text/plain": [
       "HBox(children=(IntProgress(value=0, max=235), HTML(value='')))"
      ]
     },
     "metadata": {},
     "output_type": "display_data"
    },
    {
     "name": "stdout",
     "output_type": "stream",
     "text": [
      "\n",
      "End of epoch: 3\n",
      "Validation loss: 0.00038948345184326174\n",
      "\n",
      "\n"
     ]
    },
    {
     "data": {
      "application/vnd.jupyter.widget-view+json": {
       "model_id": "5ac42925af124b18810b5267860cd21c",
       "version_major": 2,
       "version_minor": 0
      },
      "text/plain": [
       "HBox(children=(IntProgress(value=0, max=235), HTML(value='')))"
      ]
     },
     "metadata": {},
     "output_type": "display_data"
    },
    {
     "name": "stdout",
     "output_type": "stream",
     "text": [
      "\n",
      "End of epoch: 4\n",
      "Validation loss: 0.0003886837323506673\n",
      "\n",
      "\n"
     ]
    },
    {
     "data": {
      "application/vnd.jupyter.widget-view+json": {
       "model_id": "fec4024f19264eff9dad2c093e0bd7bb",
       "version_major": 2,
       "version_minor": 0
      },
      "text/plain": [
       "HBox(children=(IntProgress(value=0, max=235), HTML(value='')))"
      ]
     },
     "metadata": {},
     "output_type": "display_data"
    },
    {
     "name": "stdout",
     "output_type": "stream",
     "text": [
      "\n",
      "End of epoch: 5\n",
      "Validation loss: 0.0003883017857869466\n",
      "\n",
      "\n"
     ]
    },
    {
     "data": {
      "application/vnd.jupyter.widget-view+json": {
       "model_id": "2925c1fe2dbf4caeb86b93496a98cd69",
       "version_major": 2,
       "version_minor": 0
      },
      "text/plain": [
       "HBox(children=(IntProgress(value=0, max=235), HTML(value='')))"
      ]
     },
     "metadata": {},
     "output_type": "display_data"
    },
    {
     "name": "stdout",
     "output_type": "stream",
     "text": [
      "\n",
      "End of epoch: 6\n",
      "Validation loss: 0.0003877323786417643\n",
      "\n",
      "\n"
     ]
    },
    {
     "data": {
      "application/vnd.jupyter.widget-view+json": {
       "model_id": "18e42f79aaad4241b854079a1fddc71e",
       "version_major": 2,
       "version_minor": 0
      },
      "text/plain": [
       "HBox(children=(IntProgress(value=0, max=235), HTML(value='')))"
      ]
     },
     "metadata": {},
     "output_type": "display_data"
    },
    {
     "name": "stdout",
     "output_type": "stream",
     "text": [
      "\n",
      "End of epoch: 7\n",
      "Validation loss: 0.0003868963877360026\n",
      "\n",
      "\n"
     ]
    },
    {
     "data": {
      "application/vnd.jupyter.widget-view+json": {
       "model_id": "1d314df33935449e87f259e23578953b",
       "version_major": 2,
       "version_minor": 0
      },
      "text/plain": [
       "HBox(children=(IntProgress(value=0, max=235), HTML(value='')))"
      ]
     },
     "metadata": {},
     "output_type": "display_data"
    },
    {
     "name": "stdout",
     "output_type": "stream",
     "text": [
      "\n",
      "End of epoch: 8\n",
      "Validation loss: 0.0003860926628112793\n",
      "\n",
      "\n"
     ]
    },
    {
     "data": {
      "application/vnd.jupyter.widget-view+json": {
       "model_id": "b884b367fe4c421fa616dcb8a05f11e3",
       "version_major": 2,
       "version_minor": 0
      },
      "text/plain": [
       "HBox(children=(IntProgress(value=0, max=235), HTML(value='')))"
      ]
     },
     "metadata": {},
     "output_type": "display_data"
    },
    {
     "name": "stdout",
     "output_type": "stream",
     "text": [
      "\n",
      "End of epoch: 9\n",
      "Validation loss: 0.0003853219032287598\n",
      "\n",
      "\n"
     ]
    },
    {
     "data": {
      "application/vnd.jupyter.widget-view+json": {
       "model_id": "7cc2a4463eaa4ffe8dc3509fe9f21c69",
       "version_major": 2,
       "version_minor": 0
      },
      "text/plain": [
       "HBox(children=(IntProgress(value=0, max=235), HTML(value='')))"
      ]
     },
     "metadata": {},
     "output_type": "display_data"
    },
    {
     "name": "stdout",
     "output_type": "stream",
     "text": [
      "\n",
      "End of epoch: 10\n",
      "Validation loss: 0.0003848883946736654\n",
      "\n",
      "\n"
     ]
    },
    {
     "data": {
      "application/vnd.jupyter.widget-view+json": {
       "model_id": "4899da0e41cd4de590e670ef1f584f52",
       "version_major": 2,
       "version_minor": 0
      },
      "text/plain": [
       "HBox(children=(IntProgress(value=0, max=235), HTML(value='')))"
      ]
     },
     "metadata": {},
     "output_type": "display_data"
    },
    {
     "name": "stdout",
     "output_type": "stream",
     "text": [
      "\n",
      "End of epoch: 11\n",
      "Validation loss: 0.00038450870513916015\n",
      "\n",
      "\n"
     ]
    },
    {
     "data": {
      "application/vnd.jupyter.widget-view+json": {
       "model_id": "f199552c3a1f41ecbcb96cfa15495bf5",
       "version_major": 2,
       "version_minor": 0
      },
      "text/plain": [
       "HBox(children=(IntProgress(value=0, max=235), HTML(value='')))"
      ]
     },
     "metadata": {},
     "output_type": "display_data"
    },
    {
     "name": "stdout",
     "output_type": "stream",
     "text": [
      "\n",
      "End of epoch: 12\n",
      "Validation loss: 0.0003842198689778646\n",
      "\n",
      "\n"
     ]
    },
    {
     "data": {
      "application/vnd.jupyter.widget-view+json": {
       "model_id": "442c13968d204bf0b856f6f2f87d840f",
       "version_major": 2,
       "version_minor": 0
      },
      "text/plain": [
       "HBox(children=(IntProgress(value=0, max=235), HTML(value='')))"
      ]
     },
     "metadata": {},
     "output_type": "display_data"
    },
    {
     "name": "stdout",
     "output_type": "stream",
     "text": [
      "\n",
      "End of epoch: 13\n",
      "Validation loss: 0.0003835809071858724\n",
      "\n",
      "\n"
     ]
    },
    {
     "data": {
      "application/vnd.jupyter.widget-view+json": {
       "model_id": "af2d07ef70e446a39a9c263c6e31ef1a",
       "version_major": 2,
       "version_minor": 0
      },
      "text/plain": [
       "HBox(children=(IntProgress(value=0, max=235), HTML(value='')))"
      ]
     },
     "metadata": {},
     "output_type": "display_data"
    },
    {
     "name": "stdout",
     "output_type": "stream",
     "text": [
      "\n",
      "End of epoch: 14\n",
      "Validation loss: 0.0003833809534708659\n",
      "\n",
      "\n"
     ]
    },
    {
     "data": {
      "application/vnd.jupyter.widget-view+json": {
       "model_id": "3181981ab58f4c2bba7387529a99755c",
       "version_major": 2,
       "version_minor": 0
      },
      "text/plain": [
       "HBox(children=(IntProgress(value=0, max=235), HTML(value='')))"
      ]
     },
     "metadata": {},
     "output_type": "display_data"
    },
    {
     "name": "stdout",
     "output_type": "stream",
     "text": [
      "\n",
      "End of epoch: 15\n",
      "Validation loss: 0.000383190123240153\n",
      "\n",
      "\n"
     ]
    },
    {
     "data": {
      "application/vnd.jupyter.widget-view+json": {
       "model_id": "e419331f4b764ce68f376c995047c975",
       "version_major": 2,
       "version_minor": 0
      },
      "text/plain": [
       "HBox(children=(IntProgress(value=0, max=235), HTML(value='')))"
      ]
     },
     "metadata": {},
     "output_type": "display_data"
    },
    {
     "name": "stdout",
     "output_type": "stream",
     "text": [
      "\n",
      "End of epoch: 16\n",
      "Validation loss: 0.00038269306818644204\n",
      "\n",
      "\n"
     ]
    },
    {
     "data": {
      "application/vnd.jupyter.widget-view+json": {
       "model_id": "6af317dd2cab4d98bc413ce7e2a0f1be",
       "version_major": 2,
       "version_minor": 0
      },
      "text/plain": [
       "HBox(children=(IntProgress(value=0, max=235), HTML(value='')))"
      ]
     },
     "metadata": {},
     "output_type": "display_data"
    },
    {
     "name": "stdout",
     "output_type": "stream",
     "text": [
      "\n",
      "End of epoch: 17\n",
      "Validation loss: 0.0003822924296061198\n",
      "\n",
      "\n"
     ]
    },
    {
     "data": {
      "application/vnd.jupyter.widget-view+json": {
       "model_id": "90d98629889d416ba55fa44bcf8b70cd",
       "version_major": 2,
       "version_minor": 0
      },
      "text/plain": [
       "HBox(children=(IntProgress(value=0, max=235), HTML(value='')))"
      ]
     },
     "metadata": {},
     "output_type": "display_data"
    },
    {
     "name": "stdout",
     "output_type": "stream",
     "text": [
      "\n",
      "End of epoch: 18\n",
      "Validation loss: 0.00038171148300170896\n",
      "\n",
      "\n"
     ]
    },
    {
     "data": {
      "application/vnd.jupyter.widget-view+json": {
       "model_id": "977b63f665244a878a5f11f4e9c9a531",
       "version_major": 2,
       "version_minor": 0
      },
      "text/plain": [
       "HBox(children=(IntProgress(value=0, max=235), HTML(value='')))"
      ]
     },
     "metadata": {},
     "output_type": "display_data"
    },
    {
     "name": "stdout",
     "output_type": "stream",
     "text": [
      "\n",
      "End of epoch: 19\n",
      "Validation loss: 0.0003813407262166341\n",
      "\n",
      "\n"
     ]
    },
    {
     "data": {
      "application/vnd.jupyter.widget-view+json": {
       "model_id": "ca072c5a511f43e8b1b16039da9fd518",
       "version_major": 2,
       "version_minor": 0
      },
      "text/plain": [
       "HBox(children=(IntProgress(value=0, max=235), HTML(value='')))"
      ]
     },
     "metadata": {},
     "output_type": "display_data"
    },
    {
     "name": "stdout",
     "output_type": "stream",
     "text": [
      "\n",
      "End of epoch: 20\n",
      "Validation loss: 0.0003805053393046061\n",
      "\n",
      "\n"
     ]
    },
    {
     "data": {
      "application/vnd.jupyter.widget-view+json": {
       "model_id": "2e300e2dffd143388f5659d13db6fef4",
       "version_major": 2,
       "version_minor": 0
      },
      "text/plain": [
       "HBox(children=(IntProgress(value=0, max=235), HTML(value='')))"
      ]
     },
     "metadata": {},
     "output_type": "display_data"
    },
    {
     "name": "stdout",
     "output_type": "stream",
     "text": [
      "\n",
      "End of epoch: 21\n",
      "Validation loss: 0.0003800994873046875\n",
      "\n",
      "\n"
     ]
    },
    {
     "data": {
      "application/vnd.jupyter.widget-view+json": {
       "model_id": "3fed817cd7a444c4a9fa146e17c404f9",
       "version_major": 2,
       "version_minor": 0
      },
      "text/plain": [
       "HBox(children=(IntProgress(value=0, max=235), HTML(value='')))"
      ]
     },
     "metadata": {},
     "output_type": "display_data"
    },
    {
     "name": "stdout",
     "output_type": "stream",
     "text": [
      "\n",
      "End of epoch: 22\n",
      "Validation loss: 0.0003800569852193197\n",
      "\n",
      "\n"
     ]
    },
    {
     "data": {
      "application/vnd.jupyter.widget-view+json": {
       "model_id": "a184e36575bf487e8da2be36697d587c",
       "version_major": 2,
       "version_minor": 0
      },
      "text/plain": [
       "HBox(children=(IntProgress(value=0, max=235), HTML(value='')))"
      ]
     },
     "metadata": {},
     "output_type": "display_data"
    },
    {
     "name": "stdout",
     "output_type": "stream",
     "text": [
      "\n",
      "End of epoch: 23\n",
      "Validation loss: 0.00037947848637898764\n",
      "\n",
      "\n"
     ]
    },
    {
     "data": {
      "application/vnd.jupyter.widget-view+json": {
       "model_id": "67b1d33357ee42c28776897b1b463526",
       "version_major": 2,
       "version_minor": 0
      },
      "text/plain": [
       "HBox(children=(IntProgress(value=0, max=235), HTML(value='')))"
      ]
     },
     "metadata": {},
     "output_type": "display_data"
    },
    {
     "name": "stdout",
     "output_type": "stream",
     "text": [
      "\n",
      "End of epoch: 24\n",
      "Validation loss: 0.00037876590092976887\n",
      "\n",
      "\n"
     ]
    },
    {
     "data": {
      "application/vnd.jupyter.widget-view+json": {
       "model_id": "02e00f589b7c41d6a0dfd8f832b0949f",
       "version_major": 2,
       "version_minor": 0
      },
      "text/plain": [
       "HBox(children=(IntProgress(value=0, max=235), HTML(value='')))"
      ]
     },
     "metadata": {},
     "output_type": "display_data"
    },
    {
     "name": "stdout",
     "output_type": "stream",
     "text": [
      "\n",
      "End of epoch: 25\n",
      "Validation loss: 0.00037872133255004885\n",
      "\n",
      "\n"
     ]
    }
   ],
   "source": [
    "info = fit(EPOCHS, autoencoder, nn.MSELoss(), optimizer, train_loader)"
   ]
  },
  {
   "cell_type": "code",
   "execution_count": 16,
   "metadata": {},
   "outputs": [
    {
     "data": {
      "text/plain": [
       "[<matplotlib.lines.Line2D at 0x26da0f9d3c8>]"
      ]
     },
     "execution_count": 16,
     "metadata": {},
     "output_type": "execute_result"
    },
    {
     "data": {
      "image/png": "[encoded data removed]",
      "text/plain": [
       "<Figure size 432x288 with 1 Axes>"
      ]
     },
     "metadata": {
      "needs_background": "light"
     },
     "output_type": "display_data"
    }
   ],
   "source": [
    "plt.plot(list(range(len(info['epoch']))), info['loss'])"
   ]
  },
  {
   "cell_type": "markdown",
   "metadata": {},
   "source": [
    "### Results"
   ]
  },
  {
   "cell_type": "markdown",
   "metadata": {},
   "source": [
    "##### - Image reconstruction"
   ]
  },
  {
   "cell_type": "code",
   "execution_count": 17,
   "metadata": {},
   "outputs": [],
   "source": [
    "# bring model back to CPU (faster for stochastic evaluation)\n",
    "autoencoder = autoencoder.to('cpu')\n",
    "\n",
    "# put model on inference mode\n",
    "autoencoder.eval();"
   ]
  },
  {
   "cell_type": "code",
   "execution_count": 18,
   "metadata": {},
   "outputs": [
    {
     "data": {
      "image/png": "[encoded data removed]",
      "text/plain": [
       "<Figure size 1080x1080 with 20 Axes>"
      ]
     },
     "metadata": {},
     "output_type": "display_data"
    }
   ],
   "source": [
    "# create empty image containers\n",
    "originals = []\n",
    "generated = []\n",
    "\n",
    "# without computing gradients\n",
    "with torch.no_grad():\n",
    "    \n",
    "    # select and reconstruct 10 digits\n",
    "    for _ in range(10):\n",
    "        sample = random.randint(0, len(MNIST_test))\n",
    "        original = MNIST_test[sample][0]\n",
    "        x = original.unsqueeze(0)\n",
    "        y = autoencoder(x)\n",
    "        originals.append(original.squeeze())\n",
    "        generated.append(y.squeeze().reshape(28, 28))\n",
    "\n",
    "# plot\n",
    "f, axes = plt.subplots(10, \n",
    "                       2,\n",
    "                       figsize=(15,15),\n",
    "                       sharex=True, \n",
    "                       sharey=True,\n",
    "                       subplot_kw=dict(aspect='equal'))\n",
    "\n",
    "axes[0][0].set_title('Original')\n",
    "axes[0][1].set_title('Reconstructed')\n",
    "for i in range(10):\n",
    "    axes[i][0].imshow(originals[i], cmap='hot')\n",
    "    axes[i][0].set_xticks([])\n",
    "    axes[i][0].set_yticks([])\n",
    "    axes[i][1].imshow(generated[i], cmap='hot')\n",
    "    axes[i][1].set_xticks([])\n",
    "    axes[i][1].set_yticks([])"
   ]
  },
  {
   "cell_type": "markdown",
   "metadata": {},
   "source": [
    "##### - Generated distribution"
   ]
  },
  {
   "cell_type": "code",
   "execution_count": 19,
   "metadata": {},
   "outputs": [],
   "source": [
    "# get encoder part of the autoencoder\n",
    "encoder = autoencoder.encode\n",
    "encoder.eval();"
   ]
  },
  {
   "cell_type": "code",
   "execution_count": 20,
   "metadata": {},
   "outputs": [],
   "source": [
    "# get random batch from test set\n",
    "test_images, test_labels = next(iter(test_loader))\n",
    "\n",
    "# setup empty encodings\n",
    "encodings = {i : [] for i in range(10)}\n",
    "\n",
    "# without computing gradients\n",
    "with torch.no_grad():\n",
    "    \n",
    "    # for each digit in the dataset\n",
    "    for digit in range(10):\n",
    "        \n",
    "        # encode and store samples\n",
    "        images = test_images[test_labels == digit]\n",
    "        encoded = encoder(images)\n",
    "        encodings[digit] = [value.numpy() for value in encoded]"
   ]
  },
  {
   "cell_type": "code",
   "execution_count": 21,
   "metadata": {},
   "outputs": [
    {
     "data": {
      "image/png": "[encoded data removed]",
      "text/plain": [
       "<Figure size 720x720 with 1 Axes>"
      ]
     },
     "metadata": {
      "needs_background": "light"
     },
     "output_type": "display_data"
    }
   ],
   "source": [
    "# plot distribution\n",
    "fig = plt.figure(figsize=(10, 10))\n",
    "axis = fig.add_subplot(1, 1, 1)\n",
    "for digit in encodings.keys():\n",
    "    xs = [x[0] for x in encodings[digit]]\n",
    "    ys = [x[1] for x in encodings[digit]]\n",
    "    axis.scatter(xs, ys, alpha=0.5, s=30, label=str(digit))\n",
    "        \n",
    "plt.legend(loc=2)\n",
    "plt.show()"
   ]
  },
  {
   "cell_type": "markdown",
   "metadata": {},
   "source": [
    "##### - Generate your own digits"
   ]
  },
  {
   "cell_type": "code",
   "execution_count": 22,
   "metadata": {},
   "outputs": [],
   "source": [
    "# get decoder part of the autoencoder\n",
    "decoder = autoencoder.decode\n",
    "decoder = decoder.to('cpu')\n",
    "decoder.eval();"
   ]
  },
  {
   "cell_type": "code",
   "execution_count": 23,
   "metadata": {},
   "outputs": [
    {
     "data": {
      "text/plain": [
       "<matplotlib.image.AxesImage at 0x26dd7589fd0>"
      ]
     },
     "execution_count": 23,
     "metadata": {},
     "output_type": "execute_result"
    },
    {
     "data": {
      "image/png": "[encoded data removed]",
      "text/plain": [
       "<Figure size 432x288 with 1 Axes>"
      ]
     },
     "metadata": {
      "needs_background": "light"
     },
     "output_type": "display_data"
    }
   ],
   "source": [
    "# enter your encoded representation here\n",
    "encoded = torch.tensor([[0., 0.]])\n",
    "\n",
    "# without computing gradients\n",
    "with torch.no_grad():\n",
    "    \n",
    "    # reconstruct image from representation\n",
    "    x = decoder(encoded)\n",
    "    \n",
    "# display generated image\n",
    "plt.imshow(x.view(28, 28).numpy(), cmap='gray')"
   ]
  }
 ],
 "metadata": {
  "kernelspec": {
   "display_name": "Python 3",
   "language": "python",
   "name": "python3"
  },
  "language_info": {
   "codemirror_mode": {
    "name": "ipython",
    "version": 3
   },
   "file_extension": ".py",
   "mimetype": "text/x-python",
   "name": "python",
   "nbconvert_exporter": "python",
   "pygments_lexer": "ipython3",
   "version": "3.7.3"
  }
 },
 "nbformat": 4,
 "nbformat_minor": 2
}
