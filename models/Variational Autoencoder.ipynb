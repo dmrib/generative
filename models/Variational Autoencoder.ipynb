{
 "cells": [
  {
   "cell_type": "markdown",
   "metadata": {},
   "source": [
    "### Imports"
   ]
  },
  {
   "cell_type": "code",
   "execution_count": 1,
   "metadata": {},
   "outputs": [],
   "source": [
    "from torch import nn\n",
    "from torch import optim\n",
    "from torch.functional import F\n",
    "from torchvision import transforms\n",
    "from torchsummary import summary\n",
    "from torch.utils.data import RandomSampler\n",
    "from tqdm import tqdm_notebook as tqdm\n",
    "\n",
    "import matplotlib.pyplot as plt\n",
    "import random\n",
    "import torch\n",
    "import torchvision"
   ]
  },
  {
   "cell_type": "markdown",
   "metadata": {},
   "source": [
    "### Constants and definitions"
   ]
  },
  {
   "cell_type": "code",
   "execution_count": 2,
   "metadata": {},
   "outputs": [],
   "source": [
    "%matplotlib inline\n",
    "\n",
    "BATCH_SIZE = 128\n",
    "COMPRESSED_DIMS = 3\n",
    "DEVICE = torch.device('cuda' if torch.cuda.is_available() else 'cpu')\n",
    "EPOCHS = 10\n",
    "LEARNING_RATE = 1e-3"
   ]
  },
  {
   "cell_type": "markdown",
   "metadata": {},
   "source": [
    "### Load dataset"
   ]
  },
  {
   "cell_type": "code",
   "execution_count": 3,
   "metadata": {},
   "outputs": [],
   "source": [
    "MNIST_train = torchvision.datasets.MNIST('../data/', \n",
    "                                         train = True, \n",
    "                                         download = True, \n",
    "                                         transform = transforms.Compose([transforms.ToTensor(),\n",
    "                                                                         transforms.Normalize((0.1307,), (0.3081,))]))\n",
    "\n",
    "MNIST_test = torchvision.datasets.MNIST('../data/', \n",
    "                                        train = False, \n",
    "                                        download = True,\n",
    "                                        transform=transforms.Compose([transforms.ToTensor(),\n",
    "                                                                      transforms.Normalize((0.1307,), (0.3081,))]))"
   ]
  },
  {
   "cell_type": "code",
   "execution_count": 4,
   "metadata": {},
   "outputs": [
    {
     "data": {
      "text/plain": [
       "Dataset MNIST\n",
       "    Number of datapoints: 60000\n",
       "    Root location: ../data/\n",
       "    Split: Train\n",
       "    StandardTransform\n",
       "Transform: Compose(\n",
       "               ToTensor()\n",
       "               Normalize(mean=(0.1307,), std=(0.3081,))\n",
       "           )"
      ]
     },
     "execution_count": 4,
     "metadata": {},
     "output_type": "execute_result"
    }
   ],
   "source": [
    "MNIST_train"
   ]
  },
  {
   "cell_type": "code",
   "execution_count": 5,
   "metadata": {},
   "outputs": [
    {
     "data": {
      "text/plain": [
       "Dataset MNIST\n",
       "    Number of datapoints: 10000\n",
       "    Root location: ../data/\n",
       "    Split: Test\n",
       "    StandardTransform\n",
       "Transform: Compose(\n",
       "               ToTensor()\n",
       "               Normalize(mean=(0.1307,), std=(0.3081,))\n",
       "           )"
      ]
     },
     "execution_count": 5,
     "metadata": {},
     "output_type": "execute_result"
    }
   ],
   "source": [
    "MNIST_test"
   ]
  },
  {
   "cell_type": "markdown",
   "metadata": {},
   "source": [
    "### Create data loaders"
   ]
  },
  {
   "cell_type": "code",
   "execution_count": 6,
   "metadata": {},
   "outputs": [],
   "source": [
    "train_loader = torch.utils.data.DataLoader(MNIST_train, batch_size = BATCH_SIZE, shuffle = True)"
   ]
  },
  {
   "cell_type": "markdown",
   "metadata": {},
   "source": [
    "### Encoder network"
   ]
  },
  {
   "cell_type": "code",
   "execution_count": 7,
   "metadata": {},
   "outputs": [],
   "source": [
    "class MNIST_Encoder(nn.Module):\n",
    "    def __init__(self):\n",
    "        super(MNIST_Encoder, self).__init__()\n",
    "        self.encode = nn.Sequential(\n",
    "                        nn.Conv2d(1, 32, 3, 1),\n",
    "                        nn.LeakyReLU(),\n",
    "                        nn.Conv2d(32, 64, 3, 2),\n",
    "                        nn.LeakyReLU(),\n",
    "                        nn.Conv2d(64, 64, 3, 2),\n",
    "                        nn.LeakyReLU(),\n",
    "                        nn.Conv2d(64, 64, 3, 1),\n",
    "                        nn.Flatten(),\n",
    "                        nn.Linear(576, COMPRESSED_DIMS))\n",
    "\n",
    "    def forward(self, x):\n",
    "        return self.encode(x)"
   ]
  },
  {
   "cell_type": "markdown",
   "metadata": {},
   "source": [
    "### Decoder network"
   ]
  },
  {
   "cell_type": "code",
   "execution_count": 8,
   "metadata": {},
   "outputs": [],
   "source": [
    "class MNIST_Decoder(nn.Module):\n",
    "    def __init__(self):\n",
    "        super(MNIST_Decoder, self).__init__()\n",
    "        self.lin = nn.Linear(COMPRESSED_DIMS, 3136)\n",
    "        self.decode = nn.Sequential(\n",
    "                        nn.ConvTranspose2d(64, 64, 3, padding=1),\n",
    "                        nn.LeakyReLU(),\n",
    "                        nn.ConvTranspose2d(64, 64, 3, stride=2, padding=1, output_padding=1),\n",
    "                        nn.LeakyReLU(),\n",
    "                        nn.ConvTranspose2d(64, 32, 3, stride=2, padding=1, output_padding=1),\n",
    "                        nn.LeakyReLU(),\n",
    "                        nn.ConvTranspose2d(32, 1, 3, padding=1),\n",
    "                        nn.Sigmoid())\n",
    "        \n",
    "    def forward(self, x):\n",
    "        x = self.lin(x)\n",
    "        x = x.view(-1, 64, 7, 7)\n",
    "        x = self.decode(x)\n",
    "        \n",
    "        return x"
   ]
  },
  {
   "cell_type": "markdown",
   "metadata": {},
   "source": [
    "### Autoencoder"
   ]
  },
  {
   "cell_type": "code",
   "execution_count": 9,
   "metadata": {},
   "outputs": [],
   "source": [
    "class MNIST_Autoencoder(nn.Module):\n",
    "    def __init__(self):\n",
    "        super(MNIST_Autoencoder, self).__init__()\n",
    "        self.encode = MNIST_Encoder()\n",
    "        self.decode = MNIST_Decoder()\n",
    "        \n",
    "    def forward(self, x):\n",
    "        x = self.encode(x)\n",
    "        x = self.decode(x)\n",
    "        \n",
    "        return x"
   ]
  },
  {
   "cell_type": "markdown",
   "metadata": {},
   "source": [
    "### Training loop"
   ]
  },
  {
   "cell_type": "markdown",
   "metadata": {},
   "source": [
    "Create model:"
   ]
  },
  {
   "cell_type": "code",
   "execution_count": 10,
   "metadata": {},
   "outputs": [],
   "source": [
    "autoencoder = MNIST_Autoencoder()\n",
    "autoencoder = autoencoder.to(DEVICE)"
   ]
  },
  {
   "cell_type": "code",
   "execution_count": 11,
   "metadata": {},
   "outputs": [
    {
     "name": "stdout",
     "output_type": "stream",
     "text": [
      "----------------------------------------------------------------\n",
      "        Layer (type)               Output Shape         Param #\n",
      "================================================================\n",
      "            Conv2d-1           [-1, 32, 26, 26]             320\n",
      "         LeakyReLU-2           [-1, 32, 26, 26]               0\n",
      "            Conv2d-3           [-1, 64, 12, 12]          18,496\n",
      "         LeakyReLU-4           [-1, 64, 12, 12]               0\n",
      "            Conv2d-5             [-1, 64, 5, 5]          36,928\n",
      "         LeakyReLU-6             [-1, 64, 5, 5]               0\n",
      "            Conv2d-7             [-1, 64, 3, 3]          36,928\n",
      "           Flatten-8                  [-1, 576]               0\n",
      "            Linear-9                    [-1, 3]           1,731\n",
      "    MNIST_Encoder-10                    [-1, 3]               0\n",
      "           Linear-11                 [-1, 3136]          12,544\n",
      "  ConvTranspose2d-12             [-1, 64, 7, 7]          36,928\n",
      "        LeakyReLU-13             [-1, 64, 7, 7]               0\n",
      "  ConvTranspose2d-14           [-1, 64, 14, 14]          36,928\n",
      "        LeakyReLU-15           [-1, 64, 14, 14]               0\n",
      "  ConvTranspose2d-16           [-1, 32, 28, 28]          18,464\n",
      "        LeakyReLU-17           [-1, 32, 28, 28]               0\n",
      "  ConvTranspose2d-18            [-1, 1, 28, 28]             289\n",
      "          Sigmoid-19            [-1, 1, 28, 28]               0\n",
      "    MNIST_Decoder-20            [-1, 1, 28, 28]               0\n",
      "================================================================\n",
      "Total params: 199,556\n",
      "Trainable params: 199,556\n",
      "Non-trainable params: 0\n",
      "----------------------------------------------------------------\n",
      "Input size (MB): 0.00\n",
      "Forward/backward pass size (MB): 1.17\n",
      "Params size (MB): 0.76\n",
      "Estimated Total Size (MB): 1.93\n",
      "----------------------------------------------------------------\n"
     ]
    }
   ],
   "source": [
    "summary(autoencoder, (1, 28, 28))"
   ]
  },
  {
   "cell_type": "markdown",
   "metadata": {},
   "source": [
    "Define optimizer:"
   ]
  },
  {
   "cell_type": "code",
   "execution_count": 12,
   "metadata": {},
   "outputs": [],
   "source": [
    "optimizer = optim.Adam(autoencoder.parameters(), lr=LEARNING_RATE, weight_decay=1e-5)"
   ]
  },
  {
   "cell_type": "markdown",
   "metadata": {},
   "source": [
    "Training loop:"
   ]
  },
  {
   "cell_type": "code",
   "execution_count": 13,
   "metadata": {},
   "outputs": [],
   "source": [
    "def fit(epochs, model, loss, optimizer, data):\n",
    "    \n",
    "    # initialize info dict\n",
    "    info = {\n",
    "        'epoch': [],\n",
    "        'loss': []\n",
    "    }\n",
    "        \n",
    "    # for each epoch\n",
    "    for epoch in range(epochs):\n",
    "    \n",
    "        # set the model to training mode\n",
    "        model.train()\n",
    "        \n",
    "        # iterate through the dataset\n",
    "        for x, _ in tqdm(data):\n",
    "            \n",
    "            # send data to GPU\n",
    "            x = x.to(DEVICE)\n",
    "            \n",
    "            # infer and compute loss\n",
    "            y_hat = model(x)\n",
    "            loss_value = loss(y_hat, x)\n",
    "                        \n",
    "            # update weights\n",
    "            loss_value.backward()\n",
    "            optimizer.step()\n",
    "            optimizer.zero_grad()\n",
    "            \n",
    "        # update info\n",
    "        info['epoch'].append(epoch + 1)\n",
    "        info['loss'].append(loss_value.item())\n",
    "        \n",
    "        # log\n",
    "        print(f'End of epoch: {epoch + 1}\\nLoss: {loss_value.item()}')\n",
    "            \n",
    "    # return training info\n",
    "    return info"
   ]
  },
  {
   "cell_type": "code",
   "execution_count": 14,
   "metadata": {},
   "outputs": [
    {
     "data": {
      "application/vnd.jupyter.widget-view+json": {
       "model_id": "e9fc32500b354ddc8a0e1d162c2f6a94",
       "version_major": 2,
       "version_minor": 0
      },
      "text/plain": [
       "HBox(children=(IntProgress(value=0, max=469), HTML(value='')))"
      ]
     },
     "metadata": {},
     "output_type": "display_data"
    },
    {
     "name": "stdout",
     "output_type": "stream",
     "text": [
      "\n",
      "End of epoch: 1\n",
      "Loss: 0.6742814779281616\n"
     ]
    },
    {
     "data": {
      "application/vnd.jupyter.widget-view+json": {
       "model_id": "9123263f598542e896765071ad5dc6db",
       "version_major": 2,
       "version_minor": 0
      },
      "text/plain": [
       "HBox(children=(IntProgress(value=0, max=469), HTML(value='')))"
      ]
     },
     "metadata": {},
     "output_type": "display_data"
    },
    {
     "name": "stdout",
     "output_type": "stream",
     "text": [
      "\n",
      "End of epoch: 2\n",
      "Loss: 0.6138159036636353\n"
     ]
    },
    {
     "data": {
      "application/vnd.jupyter.widget-view+json": {
       "model_id": "f333e5d64bd94ea8800faadf59f7decd",
       "version_major": 2,
       "version_minor": 0
      },
      "text/plain": [
       "HBox(children=(IntProgress(value=0, max=469), HTML(value='')))"
      ]
     },
     "metadata": {},
     "output_type": "display_data"
    },
    {
     "name": "stdout",
     "output_type": "stream",
     "text": [
      "\n",
      "End of epoch: 3\n",
      "Loss: 0.6152775287628174\n"
     ]
    },
    {
     "data": {
      "application/vnd.jupyter.widget-view+json": {
       "model_id": "25f8a1af6fe54dd58194d11adfbc56bc",
       "version_major": 2,
       "version_minor": 0
      },
      "text/plain": [
       "HBox(children=(IntProgress(value=0, max=469), HTML(value='')))"
      ]
     },
     "metadata": {},
     "output_type": "display_data"
    },
    {
     "name": "stdout",
     "output_type": "stream",
     "text": [
      "\n",
      "End of epoch: 4\n",
      "Loss: 0.6127306818962097\n"
     ]
    },
    {
     "data": {
      "application/vnd.jupyter.widget-view+json": {
       "model_id": "5fa505f74f7147fa964230f4f786e77b",
       "version_major": 2,
       "version_minor": 0
      },
      "text/plain": [
       "HBox(children=(IntProgress(value=0, max=469), HTML(value='')))"
      ]
     },
     "metadata": {},
     "output_type": "display_data"
    },
    {
     "name": "stdout",
     "output_type": "stream",
     "text": [
      "\n",
      "End of epoch: 5\n",
      "Loss: 0.5980210304260254\n"
     ]
    },
    {
     "data": {
      "application/vnd.jupyter.widget-view+json": {
       "model_id": "a3409ce4bf9b4281bb9d0e3fd915c26e",
       "version_major": 2,
       "version_minor": 0
      },
      "text/plain": [
       "HBox(children=(IntProgress(value=0, max=469), HTML(value='')))"
      ]
     },
     "metadata": {},
     "output_type": "display_data"
    },
    {
     "name": "stdout",
     "output_type": "stream",
     "text": [
      "\n",
      "End of epoch: 6\n",
      "Loss: 0.5923121571540833\n"
     ]
    },
    {
     "data": {
      "application/vnd.jupyter.widget-view+json": {
       "model_id": "1944536a85bb46eab8086a6c689d84b0",
       "version_major": 2,
       "version_minor": 0
      },
      "text/plain": [
       "HBox(children=(IntProgress(value=0, max=469), HTML(value='')))"
      ]
     },
     "metadata": {},
     "output_type": "display_data"
    },
    {
     "name": "stdout",
     "output_type": "stream",
     "text": [
      "\n",
      "End of epoch: 7\n",
      "Loss: 0.6581356525421143\n"
     ]
    },
    {
     "data": {
      "application/vnd.jupyter.widget-view+json": {
       "model_id": "680db473daba447ab3dd8aff63c32548",
       "version_major": 2,
       "version_minor": 0
      },
      "text/plain": [
       "HBox(children=(IntProgress(value=0, max=469), HTML(value='')))"
      ]
     },
     "metadata": {},
     "output_type": "display_data"
    },
    {
     "name": "stdout",
     "output_type": "stream",
     "text": [
      "\n",
      "End of epoch: 8\n",
      "Loss: 0.6261799931526184\n"
     ]
    },
    {
     "data": {
      "application/vnd.jupyter.widget-view+json": {
       "model_id": "b47157775d7e49299c6d408776c90e71",
       "version_major": 2,
       "version_minor": 0
      },
      "text/plain": [
       "HBox(children=(IntProgress(value=0, max=469), HTML(value='')))"
      ]
     },
     "metadata": {},
     "output_type": "display_data"
    },
    {
     "name": "stdout",
     "output_type": "stream",
     "text": [
      "\n",
      "End of epoch: 9\n",
      "Loss: 0.6081900000572205\n"
     ]
    },
    {
     "data": {
      "application/vnd.jupyter.widget-view+json": {
       "model_id": "e878f1385a0045db974a780edc1e3539",
       "version_major": 2,
       "version_minor": 0
      },
      "text/plain": [
       "HBox(children=(IntProgress(value=0, max=469), HTML(value='')))"
      ]
     },
     "metadata": {},
     "output_type": "display_data"
    },
    {
     "name": "stdout",
     "output_type": "stream",
     "text": [
      "\n",
      "End of epoch: 10\n",
      "Loss: 0.5920877456665039\n"
     ]
    }
   ],
   "source": [
    "info = fit(EPOCHS, autoencoder, nn.MSELoss(), optimizer, train_loader)"
   ]
  },
  {
   "cell_type": "code",
   "execution_count": 15,
   "metadata": {},
   "outputs": [
    {
     "data": {
      "text/plain": [
       "[<matplotlib.lines.Line2D at 0x1bc1400c0f0>]"
      ]
     },
     "execution_count": 15,
     "metadata": {},
     "output_type": "execute_result"
    },
    {
     "data": {
      "image/png": "[encoded data removed]",
      "text/plain": [
       "<Figure size 432x288 with 1 Axes>"
      ]
     },
     "metadata": {
      "needs_background": "light"
     },
     "output_type": "display_data"
    }
   ],
   "source": [
    "plt.plot(list(range(len(info['loss']))), info['loss'])"
   ]
  },
  {
   "cell_type": "markdown",
   "metadata": {},
   "source": [
    "### Sampling"
   ]
  },
  {
   "cell_type": "markdown",
   "metadata": {},
   "source": [
    "Reconstructing input images:"
   ]
  },
  {
   "cell_type": "code",
   "execution_count": 16,
   "metadata": {},
   "outputs": [],
   "source": [
    "autoencoder.to('cpu')\n",
    "autoencoder = autoencoder.eval()"
   ]
  },
  {
   "cell_type": "code",
   "execution_count": 17,
   "metadata": {},
   "outputs": [
    {
     "data": {
      "image/png": "[encoded data removed]",
      "text/plain": [
       "<Figure size 1080x1080 with 20 Axes>"
      ]
     },
     "metadata": {},
     "output_type": "display_data"
    }
   ],
   "source": [
    "originals = []\n",
    "generated = []\n",
    "\n",
    "for _ in range(10):\n",
    "    sample = random.randint(0, len(MNIST_test))\n",
    "    original = MNIST_test[sample][0]\n",
    "    x = original.unsqueeze(0)\n",
    "\n",
    "    with torch.no_grad():\n",
    "        y = autoencoder(x)\n",
    "\n",
    "    originals.append(original.squeeze())\n",
    "    generated.append(y.squeeze())\n",
    "\n",
    "f, axes = plt.subplots(10, \n",
    "                       2,\n",
    "                       figsize=(15,15),\n",
    "                       sharex=True, \n",
    "                       sharey=True,\n",
    "                       subplot_kw=dict(aspect='equal'))\n",
    "\n",
    "for i in range(10):\n",
    "    axes[i][0].imshow(originals[i], cmap='gray')\n",
    "    axes[i][0].set_xticks([])\n",
    "    axes[i][0].set_yticks([])\n",
    "    axes[i][1].imshow(generated[i], cmap='gray')\n",
    "    axes[i][1].set_xticks([])\n",
    "    axes[i][1].set_yticks([])"
   ]
  }
 ],
 "metadata": {
  "kernelspec": {
   "display_name": "Python 3",
   "language": "python",
   "name": "python3"
  },
  "language_info": {
   "codemirror_mode": {
    "name": "ipython",
    "version": 3
   },
   "file_extension": ".py",
   "mimetype": "text/x-python",
   "name": "python",
   "nbconvert_exporter": "python",
   "pygments_lexer": "ipython3",
   "version": "3.7.3"
  }
 },
 "nbformat": 4,
 "nbformat_minor": 2
}
